{
 "cells": [
  {
   "cell_type": "code",
   "execution_count": 3,
   "id": "7b0e0d31",
   "metadata": {},
   "outputs": [],
   "source": [
    "import pandas\n",
    "import numpy\n",
    "from sklearn.linear_model import LinearRegression\n",
    "\n"
   ]
  },
  {
   "cell_type": "code",
   "execution_count": 11,
   "id": "da47f360",
   "metadata": {},
   "outputs": [
    {
     "name": "stdout",
     "output_type": "stream",
     "text": [
      "Please Enter the experience through which predicted salary will be displayed:2\n",
      "[44692.12484158]\n"
     ]
    }
   ],
   "source": [
    "ds=pandas.read_csv('SalaryData.csv')\n",
    "X=ds['YearsExperience'].values.reshape(30,1)\n",
    "y=ds['Salary']\n",
    "\n",
    "model=LinearRegression()\n",
    "model.fit(X , y)\n",
    "\n",
    "z=float(input(\"Please Enter the experience through which predicted salary will be displayed:\"))\n",
    "result=model.predict( [[z]] )\n",
    "\n",
    "print(result)"
   ]
  },
  {
   "cell_type": "code",
   "execution_count": null,
   "id": "ce47c9a1",
   "metadata": {},
   "outputs": [],
   "source": []
  }
 ],
 "metadata": {
  "kernelspec": {
   "display_name": "Python 3",
   "language": "python",
   "name": "python3"
  },
  "language_info": {
   "codemirror_mode": {
    "name": "ipython",
    "version": 3
   },
   "file_extension": ".py",
   "mimetype": "text/x-python",
   "name": "python",
   "nbconvert_exporter": "python",
   "pygments_lexer": "ipython3",
   "version": "3.8.8"
  }
 },
 "nbformat": 4,
 "nbformat_minor": 5
}
